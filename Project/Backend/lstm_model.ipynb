{
 "cells": [
  {
   "cell_type": "code",
   "execution_count": 12,
   "metadata": {},
   "outputs": [],
   "source": [
    "import tensorflow as tf\n",
    "from tensorflow.keras.layers import *\n",
    "from tensorflow.keras.models import Sequential\n",
    "import pandas as pd\n",
    "import numpy as np\n"
   ]
  },
  {
   "cell_type": "code",
   "execution_count": 13,
   "metadata": {},
   "outputs": [],
   "source": [
    "# Read CSV\n",
    "df = pd.read_csv(\"stock_data.csv\")\n",
    "df['Sentiment'].replace(-1, 0, inplace=True) # change 0's in sentiment to 1's\n",
    "sentiment = df.Sentiment\n",
    "text = df.Text"
   ]
  },
  {
   "cell_type": "code",
   "execution_count": 14,
   "metadata": {},
   "outputs": [],
   "source": [
    "# Tokenize words\n",
    "from tensorflow.keras.preprocessing.text import Tokenizer\n",
    "vocab_size = 1000\n",
    "tokenizer = Tokenizer(num_words = vocab_size, oov_token = 'OOV')\n",
    "tokenizer.fit_on_texts(text)\n",
    "import pickle\n",
    "f = open('lstm_tokenizer.pickle', 'wb')\n",
    "pickle.dump(tokenizer, f)\n",
    "f.close()\n",
    "word_index = tokenizer.word_index # dictionary of words and values\n",
    "sequences = tokenizer.texts_to_sequences(text)"
   ]
  },
  {
   "cell_type": "code",
   "execution_count": 15,
   "metadata": {},
   "outputs": [],
   "source": [
    "# Pad vectors that represent each sentence\n",
    "from tensorflow.keras.preprocessing.sequence import pad_sequences\n",
    "padded_sequences = pad_sequences(sequences)\n"
   ]
  },
  {
   "cell_type": "code",
   "execution_count": 16,
   "metadata": {},
   "outputs": [
    {
     "name": "stdout",
     "output_type": "stream",
     "text": [
      "Model: \"sequential_1\"\n",
      "_________________________________________________________________\n",
      " Layer (type)                Output Shape              Param #   \n",
      "=================================================================\n",
      " embedding_1 (Embedding)     (None, 34, 128)           128000    \n",
      "                                                                 \n",
      " lstm_1 (LSTM)               (None, 128)               131584    \n",
      "                                                                 \n",
      " dropout_1 (Dropout)         (None, 128)               0         \n",
      "                                                                 \n",
      " dense_1 (Dense)             (None, 1)                 129       \n",
      "                                                                 \n",
      "=================================================================\n",
      "Total params: 259,713\n",
      "Trainable params: 259,713\n",
      "Non-trainable params: 0\n",
      "_________________________________________________________________\n"
     ]
    }
   ],
   "source": [
    "# Create Model and Vectorize Words\n",
    "sentiment_model = Sequential()\n",
    "num_features = 128\n",
    "sentiment_model.add(tf.keras.layers.Embedding(vocab_size, num_features, input_length = len(padded_sequences[0])))\n",
    "sentiment_model.add(tf.keras.layers.LSTM(num_features))\n",
    "sentiment_model.add(tf.keras.layers.Dropout(0.3))\n",
    "sentiment_model.add(tf.keras.layers.Dense(1, activation = 'sigmoid'))\n",
    "sentiment_model.compile(optimizer = 'adam', loss = 'binary_crossentropy', metrics = ['accuracy'])\n",
    "sentiment_model.summary()\n",
    "\n"
   ]
  },
  {
   "cell_type": "code",
   "execution_count": 17,
   "metadata": {},
   "outputs": [],
   "source": [
    "# Train Test Split\n",
    "from sklearn.model_selection import train_test_split\n",
    "X_train, X_test, y_train, y_test = train_test_split(np.array(padded_sequences), np.array(sentiment), test_size=0.2)"
   ]
  },
  {
   "cell_type": "code",
   "execution_count": 18,
   "metadata": {},
   "outputs": [
    {
     "name": "stdout",
     "output_type": "stream",
     "text": [
      "Epoch 1/5\n",
      "73/73 [==============================] - 5s 57ms/step - loss: 0.6180 - accuracy: 0.6641 - val_loss: 0.5169 - val_accuracy: 0.7299\n",
      "Epoch 2/5\n",
      "73/73 [==============================] - 3s 39ms/step - loss: 0.4642 - accuracy: 0.7761 - val_loss: 0.4605 - val_accuracy: 0.7886\n",
      "Epoch 3/5\n",
      "73/73 [==============================] - 2s 31ms/step - loss: 0.3933 - accuracy: 0.8204 - val_loss: 0.4715 - val_accuracy: 0.7834\n",
      "Epoch 4/5\n",
      "73/73 [==============================] - 2s 32ms/step - loss: 0.3697 - accuracy: 0.8351 - val_loss: 0.4924 - val_accuracy: 0.7826\n",
      "Epoch 5/5\n",
      "73/73 [==============================] - 2s 31ms/step - loss: 0.3393 - accuracy: 0.8545 - val_loss: 0.4924 - val_accuracy: 0.7852\n"
     ]
    },
    {
     "data": {
      "text/plain": [
       "<keras.callbacks.History at 0x7fb39a72a370>"
      ]
     },
     "execution_count": 18,
     "metadata": {},
     "output_type": "execute_result"
    }
   ],
   "source": [
    "# Train Model\n",
    "sentiment_model.fit(X_train, y_train, epochs = 5, validation_data = (X_test, y_test), batch_size = 64)"
   ]
  },
  {
   "cell_type": "code",
   "execution_count": 19,
   "metadata": {},
   "outputs": [
    {
     "name": "stdout",
     "output_type": "stream",
     "text": [
      "37/37 [==============================] - 1s 8ms/step\n",
      "0.7851596203623814\n"
     ]
    },
    {
     "data": {
      "text/plain": [
       "array([[268, 149],\n",
       "       [100, 642]])"
      ]
     },
     "execution_count": 19,
     "metadata": {},
     "output_type": "execute_result"
    }
   ],
   "source": [
    "# test results\n",
    "from sklearn import metrics\n",
    "from sklearn.metrics import accuracy_score, confusion_matrix\n",
    "y_prob = sentiment_model.predict(X_test)\n",
    "\n",
    "y_pred = []\n",
    "for i in y_prob:\n",
    "    y_pred.append(round(i[0]))\n",
    "print(accuracy_score(y_pred, y_test))\n",
    "confusion_matrix(y_test, y_pred)"
   ]
  },
  {
   "cell_type": "code",
   "execution_count": 20,
   "metadata": {},
   "outputs": [
    {
     "name": "stderr",
     "output_type": "stream",
     "text": [
      "WARNING:absl:Found untraced functions such as lstm_cell_2_layer_call_fn, lstm_cell_2_layer_call_and_return_conditional_losses while saving (showing 2 of 2). These functions will not be directly callable after loading.\n"
     ]
    },
    {
     "name": "stdout",
     "output_type": "stream",
     "text": [
      "INFO:tensorflow:Assets written to: ram://b0d7266b-3db9-4db4-90cd-8947721bbe91/assets\n"
     ]
    },
    {
     "name": "stderr",
     "output_type": "stream",
     "text": [
      "INFO:tensorflow:Assets written to: ram://b0d7266b-3db9-4db4-90cd-8947721bbe91/assets\n"
     ]
    }
   ],
   "source": [
    "import pickle\n",
    "f = open('lstm_classifier.pickle', 'wb')\n",
    "pickle.dump(sentiment_model, f)\n",
    "f.close()"
   ]
  },
  {
   "cell_type": "code",
   "execution_count": 28,
   "metadata": {},
   "outputs": [
    {
     "name": "stdout",
     "output_type": "stream",
     "text": [
      "WARNING:tensorflow:5 out of the last 41 calls to <function Model.make_predict_function.<locals>.predict_function at 0x7fb39a1631f0> triggered tf.function retracing. Tracing is expensive and the excessive number of tracings could be due to (1) creating @tf.function repeatedly in a loop, (2) passing tensors with different shapes, (3) passing Python objects instead of tensors. For (1), please define your @tf.function outside of the loop. For (2), @tf.function has reduce_retracing=True option that can avoid unnecessary retracing. For (3), please refer to https://www.tensorflow.org/guide/function#controlling_retracing and https://www.tensorflow.org/api_docs/python/tf/function for  more details.\n"
     ]
    },
    {
     "name": "stderr",
     "output_type": "stream",
     "text": [
      "WARNING:tensorflow:5 out of the last 41 calls to <function Model.make_predict_function.<locals>.predict_function at 0x7fb39a1631f0> triggered tf.function retracing. Tracing is expensive and the excessive number of tracings could be due to (1) creating @tf.function repeatedly in a loop, (2) passing tensors with different shapes, (3) passing Python objects instead of tensors. For (1), please define your @tf.function outside of the loop. For (2), @tf.function has reduce_retracing=True option that can avoid unnecessary retracing. For (3), please refer to https://www.tensorflow.org/guide/function#controlling_retracing and https://www.tensorflow.org/api_docs/python/tf/function for  more details.\n"
     ]
    },
    {
     "name": "stdout",
     "output_type": "stream",
     "text": [
      "1/1 [==============================] - 0s 253ms/step\n",
      "[[0.83045447]\n",
      " [0.9631648 ]]\n"
     ]
    }
   ],
   "source": [
    "f = open(\"lstm_classifier.pickle\",'rb')\n",
    "classifier = pickle.load(f)\n",
    "f.close()\n",
    "f = open(\"lstm_tokenizer.pickle\", 'rb')\n",
    "tknizer = pickle.load(f)\n",
    "f.close()\n",
    "\n",
    "test = ['the stocks look terrible', 'the stock market looks like it is going up today']\n",
    "test = tokenizer.texts_to_sequences(test)\n",
    "test = np.array(pad_sequences(test, maxlen=34))\n",
    "print(classifier.predict(test))"
   ]
  }
 ],
 "metadata": {
  "kernelspec": {
   "display_name": "Python 3.8.13 ('test')",
   "language": "python",
   "name": "python3"
  },
  "language_info": {
   "codemirror_mode": {
    "name": "ipython",
    "version": 3
   },
   "file_extension": ".py",
   "mimetype": "text/x-python",
   "name": "python",
   "nbconvert_exporter": "python",
   "pygments_lexer": "ipython3",
   "version": "3.8.13"
  },
  "orig_nbformat": 4,
  "vscode": {
   "interpreter": {
    "hash": "c161c65a88bf1451d557a1a79fe2daf50414a55d2bf2f629a7cd08be87f14867"
   }
  }
 },
 "nbformat": 4,
 "nbformat_minor": 2
}
