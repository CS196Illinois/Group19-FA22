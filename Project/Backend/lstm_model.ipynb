{
 "cells": [
  {
   "cell_type": "code",
   "execution_count": 205,
   "metadata": {},
   "outputs": [],
   "source": [
    "import tensorflow as tf\n",
    "from tensorflow.keras.layers import *\n",
    "from tensorflow.keras.models import Sequential\n",
    "import pandas as pd\n",
    "import numpy as np\n"
   ]
  },
  {
   "cell_type": "code",
   "execution_count": 206,
   "metadata": {},
   "outputs": [],
   "source": [
    "# Read CSV\n",
    "df = pd.read_csv(\"stock_data.csv\")\n",
    "df['Sentiment'].replace(-1, 0, inplace=True) # change 0's in sentiment to 1's\n",
    "sentiment = df.Sentiment\n",
    "text = df.Text"
   ]
  },
  {
   "cell_type": "code",
   "execution_count": 207,
   "metadata": {},
   "outputs": [],
   "source": [
    "# Tokenize words\n",
    "from tensorflow.keras.preprocessing.text import Tokenizer\n",
    "vocab_size = 1000\n",
    "tokenizer = Tokenizer(num_words = vocab_size, oov_token = 'OOV')\n",
    "tokenizer.fit_on_texts(text)\n",
    "word_index = tokenizer.word_index # dictionary of words and values\n",
    "sequences = tokenizer.texts_to_sequences(text)"
   ]
  },
  {
   "cell_type": "code",
   "execution_count": 208,
   "metadata": {},
   "outputs": [],
   "source": [
    "# Pad vectors that represent each sentence\n",
    "from tensorflow.keras.preprocessing.sequence import pad_sequences\n",
    "padded_sequences = pad_sequences(sequences)\n"
   ]
  },
  {
   "cell_type": "code",
   "execution_count": 209,
   "metadata": {},
   "outputs": [
    {
     "name": "stdout",
     "output_type": "stream",
     "text": [
      "Model: \"sequential_24\"\n",
      "_________________________________________________________________\n",
      " Layer (type)                Output Shape              Param #   \n",
      "=================================================================\n",
      " embedding_19 (Embedding)    (None, 34, 128)           128000    \n",
      "                                                                 \n",
      " lstm_16 (LSTM)              (None, 128)               131584    \n",
      "                                                                 \n",
      " dropout_7 (Dropout)         (None, 128)               0         \n",
      "                                                                 \n",
      " dense_9 (Dense)             (None, 1)                 129       \n",
      "                                                                 \n",
      "=================================================================\n",
      "Total params: 259,713\n",
      "Trainable params: 259,713\n",
      "Non-trainable params: 0\n",
      "_________________________________________________________________\n"
     ]
    }
   ],
   "source": [
    "# Create Model and Vectorize Words\n",
    "sentiment_model = Sequential()\n",
    "num_features = 128\n",
    "sentiment_model.add(tf.keras.layers.Embedding(vocab_size, num_features, input_length = len(padded_sequences[0])))\n",
    "sentiment_model.add(tf.keras.layers.LSTM(num_features))\n",
    "sentiment_model.add(tf.keras.layers.Dropout(0.3))\n",
    "sentiment_model.add(tf.keras.layers.Dense(1, activation = 'sigmoid'))\n",
    "sentiment_model.compile(optimizer = 'adam', loss = 'binary_crossentropy', metrics = ['accuracy'])\n",
    "sentiment_model.summary()\n",
    "\n"
   ]
  },
  {
   "cell_type": "code",
   "execution_count": 210,
   "metadata": {},
   "outputs": [],
   "source": [
    "# Train Test Split\n",
    "from sklearn.model_selection import train_test_split\n",
    "X_train, X_test, y_train, y_test = train_test_split(np.array(padded_sequences), np.array(sentiment), test_size=0.2)"
   ]
  },
  {
   "cell_type": "code",
   "execution_count": 211,
   "metadata": {},
   "outputs": [
    {
     "name": "stdout",
     "output_type": "stream",
     "text": [
      "Epoch 1/5\n",
      "73/73 [==============================] - 4s 36ms/step - loss: 0.6113 - accuracy: 0.6621 - val_loss: 0.5627 - val_accuracy: 0.7084\n",
      "Epoch 2/5\n",
      "73/73 [==============================] - 2s 32ms/step - loss: 0.4656 - accuracy: 0.7759 - val_loss: 0.4848 - val_accuracy: 0.7808\n",
      "Epoch 3/5\n",
      "73/73 [==============================] - 2s 32ms/step - loss: 0.3955 - accuracy: 0.8156 - val_loss: 0.4675 - val_accuracy: 0.7748\n",
      "Epoch 4/5\n",
      "73/73 [==============================] - 2s 32ms/step - loss: 0.3663 - accuracy: 0.8359 - val_loss: 0.4737 - val_accuracy: 0.7800\n",
      "Epoch 5/5\n",
      "73/73 [==============================] - 2s 32ms/step - loss: 0.3324 - accuracy: 0.8545 - val_loss: 0.4866 - val_accuracy: 0.7800\n"
     ]
    },
    {
     "data": {
      "text/plain": [
       "<keras.callbacks.History at 0x7f7af124eb20>"
      ]
     },
     "execution_count": 211,
     "metadata": {},
     "output_type": "execute_result"
    }
   ],
   "source": [
    "# Train Model\n",
    "sentiment_model.fit(X_train, y_train, epochs = 5, validation_data = (X_test, y_test), batch_size = 64)"
   ]
  },
  {
   "cell_type": "code",
   "execution_count": 217,
   "metadata": {},
   "outputs": [
    {
     "name": "stdout",
     "output_type": "stream",
     "text": [
      "37/37 [==============================] - 0s 8ms/step\n",
      "0.7799827437446074\n"
     ]
    },
    {
     "data": {
      "text/plain": [
       "array([[276, 138],\n",
       "       [117, 628]])"
      ]
     },
     "execution_count": 217,
     "metadata": {},
     "output_type": "execute_result"
    }
   ],
   "source": [
    "# test results\n",
    "from sklearn import metrics\n",
    "from sklearn.metrics import accuracy_score, confusion_matrix\n",
    "y_prob = sentiment_model.predict(X_test)\n",
    "\n",
    "y_pred = []\n",
    "for i in y_prob:\n",
    "    y_pred.append(round(i[0]))\n",
    "print(accuracy_score(y_pred, y_test))\n",
    "confusion_matrix(y_test, y_pred)"
   ]
  }
 ],
 "metadata": {
  "kernelspec": {
   "display_name": "Python 3.8.13 ('test')",
   "language": "python",
   "name": "python3"
  },
  "language_info": {
   "codemirror_mode": {
    "name": "ipython",
    "version": 3
   },
   "file_extension": ".py",
   "mimetype": "text/x-python",
   "name": "python",
   "nbconvert_exporter": "python",
   "pygments_lexer": "ipython3",
   "version": "3.8.13"
  },
  "orig_nbformat": 4,
  "vscode": {
   "interpreter": {
    "hash": "c161c65a88bf1451d557a1a79fe2daf50414a55d2bf2f629a7cd08be87f14867"
   }
  }
 },
 "nbformat": 4,
 "nbformat_minor": 2
}
